{
 "cells": [
  {
   "cell_type": "markdown",
   "metadata": {},
   "source": [
    "# Monte Carlo verification of analytically derived autocovariance and autocorrelation matrices for an averaged Wiener process"
   ]
  },
  {
   "cell_type": "markdown",
   "metadata": {},
   "source": [
    "## Notation"
   ]
  },
  {
   "cell_type": "markdown",
   "metadata": {},
   "source": [
    "<table style=\"width:70%\"><tr><td><em>t<sub>i</sub> , t<sub>j</sub></em></td><td style=\"width:80%\">are the indices of the time points equally spaced in time</td></tr>\n",
    "<tr><td><em>i</em>, <em>j</em></td><td>are the indices of the averaged time units</td></tr>\n",
    "<tr><td>n</td><td>is the number of time points in each averaged unit</td></tr>\n",
    "<tr><td>σ<sup>2</sup></td><td>is scaled to the distance between neighboring time points</td></tr></table>\n",
    "<br/>All indices (both time points and units) start from zero."
   ]
  },
  {
   "cell_type": "markdown",
   "metadata": {},
   "source": [
    "## Autocovariance matrix of the discrete-time Wiener process"
   ]
  },
  {
   "cell_type": "markdown",
   "metadata": {},
   "source": [
    "$ \\begin{bmatrix}\n",
    "  0 & 0 & 0 & 0 & 0 & 0 & 0 & ... & 0 \\\\\n",
    "  0 & 1 & 1 & 1 & 1 & 1 & 1 & ... & 1  \\\\\n",
    "  0 & 1 & 2 & 2 & 2 & 2 & 2 & ... & 2  \\\\\n",
    "  0 & 1 & 2 & 3 & 3 & 3 & 3 & ... & 3  \\\\\n",
    "  0 & 1 & 2 & 3 & 4 & 4 & 4 & ... & 4  \\\\\n",
    "  0 & 1 & 2 & 3 & 4 & 5 & 5 & ... & 5  \\\\\n",
    "  0 & 1 & 2 & 3 & 4 & 5 & 6 & ... & 6 \\\\\n",
    "  ... & ... & ... & ... & ... & ... & ... & ... & ... \\\\\n",
    "  0 & 1 & 2 & 3 & 4 & 5 & 6 & ... & min(t_{j}, t_{i})\n",
    " \\end{bmatrix} $"
   ]
  },
  {
   "cell_type": "markdown",
   "metadata": {},
   "source": [
    "## Autocorrelation matrix of the discrete-time Wiener process"
   ]
  },
  {
   "cell_type": "markdown",
   "metadata": {},
   "source": [
    "$ \\begin{bmatrix}\n",
    "    & 0 & 0 & 0 & 0 & 0 & 0 & ... & 0 \\\\\n",
    "  0 & 1 & \\frac{ 1 }{ \\sqrt{ 2 }} & \\frac{ 1 }{ \\sqrt{ 3 }} & \\frac{ 1 }{ 2 } & \\frac{ 1 }{ \\sqrt{ 5 }} & \\frac{ 1 }{ \\sqrt{ 6 }} & ... & \\frac{ 1 }{ \\sqrt{ i }} \\\\\n",
    "  0 & \\frac{ 1 }{ \\sqrt{ 2 }} & 1 & \\sqrt{ \\frac{ 2 }{ 3 }} & \\frac{ 1 }{ \\sqrt{ 2 }} & \\sqrt{ \\frac{ 2 }{ 5 }} & \\frac{ 1 }{ \\sqrt{ 3 }} & ... & \\sqrt{ \\frac{ 2 }{ i }} \\\\\n",
    "  0 & \\frac{ 1 }{ \\sqrt{ 3 }} & \\sqrt{ \\frac{ 2 }{ 3 }} & 1 & \\frac{ \\sqrt{ 3 } }{ 2 } & \\sqrt{ \\frac{ 3 }{ 5 }} & \\frac{ 1 }{ \\sqrt{ 2 }} & ... & \\sqrt{ \\frac{ 3 }{ i }} \\\\\n",
    "  0 & \\frac{ 1 }{ 2 } & \\frac{ 1 }{ \\sqrt{ 2 }} & \\frac{ \\sqrt{ 3 } }{ 2 } & 1 & \\frac{ 2 }{ \\sqrt{ 5 }} & \\sqrt{ \\frac{ 2 }{ 3 }} & ... & \\frac{ 2 }{ \\sqrt{ i }} \\\\\n",
    "  0 & \\frac{ 1 }{ \\sqrt{ 5 }} & \\sqrt{ \\frac{ 2 }{ 5 }} & \\sqrt{ \\frac{ 3 }{ 5 }} & \\frac{ 2 }{ \\sqrt{ 5 }} & 1 & \\sqrt{ \\frac{ 5 }{ 6 }} & ... & \\sqrt{ \\frac{ 5 }{ i }} \\\\\n",
    "  0 & \\frac{ 1 }{ \\sqrt{ 6 }} & \\frac{ 1 }{ \\sqrt{ 3 }} & \\frac{ 1 }{ \\sqrt{ 2 }} &  \\sqrt{ \\frac{ 2 }{ 3 }} & \\sqrt{ \\frac{ 5 }{ 6 }} & 1 & ... & \\sqrt{ \\frac{ 6 }{ i }} \\\\\n",
    "  ... & ... & ... & ... & ... & ... & ... & ... & ... \\\\\n",
    "  0 & \\frac{ 1 }{ \\sqrt{ j }} & \\sqrt{ \\frac{ 2 }{ j }} & \\sqrt{ \\frac{ 3 }{ j }} & \\frac{ 2 }{ \\sqrt{ j }} & \\sqrt{ \\frac{ 5 }{ j }} & \\sqrt{ \\frac{ 6 }{ j }} & ... & \\sqrt{ \\frac{ j }{ i }} , j \\le i\n",
    " \\end{bmatrix} $"
   ]
  },
  {
   "cell_type": "markdown",
   "metadata": {},
   "source": [
    "## Autocovariance matrix of the averaged Wiener process"
   ]
  },
  {
   "cell_type": "markdown",
   "metadata": {},
   "source": [
    "$ \\begin{bmatrix}\n",
    "  \\frac{ n }{ 3 } + \\frac{ 1 }{ 6n } - \\frac{ 1 }{ 2 } & \\frac{ n - 1 }{ 2 } & \\frac{ n - 1 }{ 2 } & \\frac{ n - 1 }{ 2 } & \\frac{ n - 1 }{ 2 } & \\frac{ n - 1 }{ 2 } & \\frac{ n - 1 }{ 2 } & ... & \\frac{ n - 1 }{ 2 } \\\\\n",
    "  \\frac{ n - 1 }{ 2 } & \\frac{ 4n }{ 3 } + \\frac{ 1 }{ 6n } - \\frac{ 1 }{ 2 } & n + \\frac{ n - 1 }{ 2 } & n + \\frac{ n - 1 }{ 2 } & n + \\frac{ n - 1 }{ 2 } & n + \\frac{ n - 1 }{ 2 } & n + \\frac{ n - 1 }{ 2 } & ... & n + \\frac{ n - 1 }{ 2 } \\\\\n",
    "  \\frac{ n - 1 }{ 2 } & n + \\frac{ n - 1 }{ 2 } & \\frac{ 7n }{ 3 } + \\frac{ 1 }{ 6n } - \\frac{ 1 }{ 2 } & 2n + \\frac{ n - 1 }{ 2 } & 2n + \\frac{ n - 1 }{ 2 } & 2n + \\frac{ n - 1 }{ 2 } & 2n + \\frac{ n - 1 }{ 2 } & ... & 2n + \\frac{ n - 1 }{ 2 } \\\\\n",
    "  \\frac{ n - 1 }{ 2 } & n + \\frac{ n - 1 }{ 2 } & 2n + \\frac{ n - 1 }{ 2 } & \\frac{ 10n }{ 3 } + \\frac{ 1 }{ 6n } - \\frac{ 1 }{ 2 } & 3n + \\frac{ n - 1 }{ 2 } & 3n + \\frac{ n - 1 }{ 2 } & 3n + \\frac{ n - 1 }{ 2 } & ... & 3n + \\frac{ n - 1 }{ 2 } \\\\\n",
    "  \\frac{ n - 1 }{ 2 } & n + \\frac{ n - 1 }{ 2 } & 2n + \\frac{ n - 1 }{ 2 } & 3n + \\frac{ n - 1 }{ 2 } & \\frac{ 13n }{ 3 } + \\frac{ 1 }{ 6n } - \\frac{ 1 }{ 2 } & 4n + \\frac{ n - 1 }{ 2 } & 4n + \\frac{ n - 1 }{ 2 } & ... & 4n + \\frac{ n - 1 }{ 2 } \\\\\n",
    "  \\frac{ n - 1 }{ 2 } & n + \\frac{ n - 1 }{ 2 } & 2n + \\frac{ n - 1 }{ 2 } & 3n + \\frac{ n - 1 }{ 2 } & 4n + \\frac{ n - 1 }{ 2 } & \\frac{ 16n }{ 3 } + \\frac{ 1 }{ 6n } - \\frac{ 1 }{ 2 } & 5n + \\frac{ n - 1 }{ 2 } & ... & 5n + \\frac{ n - 1 }{ 2 } \\\\\n",
    "  \\frac{ n - 1 }{ 2 } & n + \\frac{ n - 1 }{ 2 } & 2n + \\frac{ n - 1 }{ 2 } & 3n + \\frac{ n - 1 }{ 2 } & 4n + \\frac{ n - 1 }{ 2 } & 5n + \\frac{ n - 1 }{ 2 } & \\frac{ 19n }{ 3 } + \\frac{ 1 }{ 6n } - \\frac{ 1 }{ 2 } & ... & 6n + \\frac{ n - 1 }{ 2 } \\\\\n",
    "  ... & ... & ... & ... & ... & ... & ... & ... & ... \\\\\n",
    "  \\frac{ n - 1 }{ 2 } & n + \\frac{ n - 1 }{ 2 } & 2n + \\frac{ n - 1 }{ 2 } & 3n + \\frac{ n - 1 }{ 2 } & 4n + \\frac{ n - 1 }{ 2 } & 5n + \\frac{ n - 1 }{ 2 } & 6n + \\frac{ n - 1 }{ 2 } & ... & \\begin{cases}\n",
    "n(j + \\frac{ 1 }{ 3 }) + \\frac{ 1 }{ 6n } - \\frac{ 1 }{ 2 } & \\quad j = i, \\\\\n",
    "jn + \\frac{ n - 1 }{ 2 } & \\quad j < i.\n",
    "\\end{cases} \n",
    " \\end{bmatrix} $"
   ]
  },
  {
   "cell_type": "markdown",
   "metadata": {},
   "source": [
    "## Autocorrelation matrix of the averaged Wiener process"
   ]
  },
  {
   "cell_type": "markdown",
   "metadata": {},
   "source": [
    "$ \\begin{bmatrix}\n",
    "  1 & \\frac{ 3n^{2} - 3n }{ \\sqrt{ 2n^{2} - 3n + 1 } \\sqrt{ 8n^{2} - 3n + 1 } } & \\frac{ 3n^{2} - 3n }{ \\sqrt{ 2n^{2} - 3n + 1 } \\sqrt{ 14n^{2} - 3n + 1 } } & \\frac{ 3n^{2} - 3n }{ \\sqrt{ 2n^{2} - 3n + 1 } \\sqrt{ 20n^{2} - 3n + 1 } } & \\frac{ 3n^{2} - 3n }{ \\sqrt{ 2n^{2} - 3n + 1 } \\sqrt{ 26n^{2} - 3n + 1 } } & \\frac{ 3n^{2} - 3n }{ \\sqrt{ 2n^{2} - 3n + 1 } \\sqrt{ 32n^{2} - 3n + 1 } } & \\frac{ 3n^{2} - 3n }{ \\sqrt{ 2n^{2} - 3n + 1 } \\sqrt{ 38n^{2} - 3n + 1 } } & ... & \\frac{ 3n^{2} - 3n }{ \\sqrt{ 6in^{2} + 2n^{2} - 3n + 1 } \\sqrt{ 2n^{2} - 3n + 1} } \\\\\n",
    "  \\frac{ 3n^{2} - 3n }{ \\sqrt{ 2n^{2} - 3n + 1 } \\sqrt{ 8n^{2} - 3n + 1 } } & 1 & \\frac{ 9n^{2} - 3n }{ \\sqrt{ 8n^{2} - 3n + 1 } \\sqrt{ 14n^{2} - 3n + 1 } } & \\frac{ 9n^{2} - 3n }{ \\sqrt{ 8n^{2} - 3n + 1 } \\sqrt{ 20n^{2} - 3n + 1 } } & \\frac{ 9n^{2} - 3n }{ \\sqrt{ 8n^{2} - 3n + 1 } \\sqrt{ 26n^{2} - 3n + 1 } } & \\frac{ 9n^{2} - 3n }{ \\sqrt{ 8n^{2} - 3n + 1 } \\sqrt{ 32n^{2} - 3n + 1 } } & \\frac{ 9n^{2} - 3n }{ \\sqrt{ 8n^{2} - 3n + 1 } \\sqrt{ 38n^{2} - 3n + 1 } } & ... & \\frac{ 9n^{2} - 3n }{ \\sqrt{ 6in^{2} + 2n^{2} - 3n + 1 } \\sqrt{ 8n^{2} - 3n + 1} } \\\\\n",
    "  \\frac{ 3n^{2} - 3n }{ \\sqrt{ 2n^{2} - 3n + 1 } \\sqrt{ 14n^{2} - 3n + 1 } } & \\frac{ 9n^{2} - 3n }{ \\sqrt{ 8n^{2} - 3n + 1 } \\sqrt{ 14n^{2} - 3n + 1 } } & 1 & \\frac{ 15n^{2} - 3n }{ \\sqrt{ 14n^{2} - 3n + 1 } \\sqrt{ 20n^{2} - 3n + 1 } } & \\frac{ 15n^{2} - 3n }{ \\sqrt{ 14n^{2} - 3n + 1 } \\sqrt{ 26n^{2} - 3n + 1 } } & \\frac{ 15n^{2} - 3n }{ \\sqrt{ 14n^{2} - 3n + 1 } \\sqrt{ 32n^{2} - 3n + 1 } } & \\frac{ 15n^{2} - 3n }{ \\sqrt{ 14n^{2} - 3n + 1 } \\sqrt{ 38n^{2} - 3n + 1 } } & ... & \\frac{ 15n^{2} - 3n }{ \\sqrt{ 6in^{2} + 2n^{2} - 3n + 1 } \\sqrt{ 14n^{2} - 3n + 1} } \\\\\n",
    "  \\frac{ 3n^{2} - 3n }{ \\sqrt{ 2n^{2} - 3n + 1 } \\sqrt{ 20n^{2} - 3n + 1 } } & \\frac{ 9n^{2} - 3n }{ \\sqrt{ 8n^{2} - 3n + 1 } \\sqrt{ 20n^{2} - 3n + 1 } } & \\frac{ 15n^{2} - 3n }{ \\sqrt{ 14n^{2} - 3n + 1 } \\sqrt{ 20n^{2} - 3n + 1 } } & 1 & \\frac{ 21n^{2} - 3n }{ \\sqrt{ 20n^{2} - 3n + 1 } \\sqrt{ 26n^{2} - 3n + 1 } } & \\frac{ 21n^{2} - 3n }{ \\sqrt{ 20n^{2} - 3n + 1 } \\sqrt{ 32n^{2} - 3n + 1 } } & \\frac{ 21n^{2} - 3n }{ \\sqrt{ 20n^{2} - 3n + 1 } \\sqrt{ 38n^{2} - 3n + 1 } } & ... & \\frac{ 21n^{2} - 3n }{ \\sqrt{ 6in^{2} + 2n^{2} - 3n + 1 } \\sqrt{ 20n^{2} - 3n + 1} } \\\\\n",
    "  \\frac{ 3n^{2} - 3n }{ \\sqrt{ 2n^{2} - 3n + 1 } \\sqrt{ 26n^{2} - 3n + 1 } } & \\frac{ 9n^{2} - 3n }{ \\sqrt{ 8n^{2} - 3n + 1 } \\sqrt{ 26n^{2} - 3n + 1 } } & \\frac{ 15n^{2} - 3n }{ \\sqrt{ 14n^{2} - 3n + 1 } \\sqrt{ 26n^{2} - 3n + 1 } } & \\frac{ 21n^{2} - 3n }{ \\sqrt{ 20n^{2} - 3n + 1 } \\sqrt{ 26n^{2} - 3n + 1 } } & 1 & \\frac{ 27n^{2} - 3n }{ \\sqrt{ 26n^{2} - 3n + 1} \\sqrt{ 32n^{2} - 3n + 1 } } & \\frac{ 27n^{2} - 3n }{ \\sqrt{ 26n^{2} - 3n + 1} \\sqrt{ 38n^{2} - 3n + 1 } } & ... & \\frac{ 27n^{2} - 3n }{ \\sqrt{ 6in^{2} + 2n^{2} - 3n + 1 } \\sqrt{ 26n^{2} - 3n + 1} } \\\\\n",
    "  \\frac{ 3n^{2} - 3n }{ \\sqrt{ 2n^{2} - 3n + 1 } \\sqrt{ 32n^{2} - 3n + 1 } } & \\frac{ 9n^{2} - 3n }{ \\sqrt{ 8n^{2} - 3n + 1 } \\sqrt{ 32n^{2} - 3n + 1 } } & \\frac{ 15n^{2} - 3n }{ \\sqrt{ 14n^{2} - 3n + 1 } \\sqrt{ 32n^{2} - 3n + 1 } } & \\frac{ 21n^{2} - 3n }{ \\sqrt{ 20n^{2} - 3n + 1 } \\sqrt{ 32n^{2} - 3n + 1 } } & \\frac{ 27n^{2} - 3n }{ \\sqrt{ 26n^{2} - 3n + 1 } \\sqrt{ 32n^{2} - 3n + 1 } } & 1 & \\frac{ 33n^{2} - 3n }{ \\sqrt{ 32n^{2} - 3n + 1 } \\sqrt{ 38n^{2} - 3n + 1 } } & ... & \\frac{ 33n^{2} - 3n }{ \\sqrt{ 6in^{2} + 2n^{2} - 3n + 1 } \\sqrt{ 32n^{2} - 3n + 1} } \\\\\n",
    "  \\frac{ 3n^{2} - 3n }{ \\sqrt{ 2n^{2} - 3n + 1 } \\sqrt{ 38n^{2} - 3n + 1 } } & \\frac{ 9n^{2} - 3n }{ \\sqrt{ 8n^{2} - 3n + 1 } \\sqrt{ 38n^{2} - 3n + 1 } } & \\frac{ 15n^{2} - 3n }{ \\sqrt{ 14n^{2} - 3n + 1 } \\sqrt{ 38n^{2} - 3n + 1 } } & \\frac{ 21n^{2} - 3n }{ \\sqrt{ 20n^{2} - 3n + 1 } \\sqrt{ 38n^{2} - 3n + 1 } } & \\frac{ 27n^{2} - 3n }{ \\sqrt{ 26n^{2} - 3n + 1 } \\sqrt{ 38n^{2} - 3n + 1 } } & \\frac{ 33n^{2} - 3n }{ \\sqrt{ 32n^{2} - 3n + 1 } \\sqrt{ 38n^{2} - 3n + 1 } } & 1 & ... & \\frac{ 39n^{2} - 3n }{ \\sqrt{ 6in^{2} + 2n^{2} - 3n + 1 } \\sqrt{ 38n^{2} - 3n + 1} } \\\\\n",
    "  ... & ... & ... & ... & ... & ... & ... & ... & ... \\\\\n",
    "  \\frac{ 3n^{2} - 3n }{ \\sqrt{ 2n^{2} - 3n + 1 } \\sqrt{ 6jn^{2} + 2n^{2} - 3n + 1} } & \\frac{ 9n^{2} - 3n }{ \\sqrt{ 8n^{2} - 3n + 1 } \\sqrt{ 6jn^{2} + 2n^{2} - 3n + 1} } & \\frac{ 15n^{2} - 3n }{ \\sqrt{ 14n^{2} - 3n + 1 } \\sqrt{ 6jn^{2} + 2n^{2} - 3n + 1} } & \\frac{ 21n^{2} - 3n }{ \\sqrt{ 20n^{2} - 3n + 1 } \\sqrt{ 6jn^{2} + 2n^{2} - 3n + 1} } & \\frac{ 27n^{2} - 3n }{ \\sqrt{ 26n^{2} - 3n + 1 } \\sqrt{ 6jn^{2} + 2n^{2} - 3n + 1} } & \\frac{ 33n^{2} - 3n }{ \\sqrt{ 32n^{2} - 3n + 1 } \\sqrt{ 6jn^{2} + 2n^{2} - 3n + 1} } & \\frac{ 39n^{2} - 3n }{ \\sqrt{ 38n^{2} - 3n + 1 } \\sqrt{ 6jn^{2} + 2n^{2} - 3n + 1} } & ... & \\frac{ 6jn^{2} + 3n^{2} - 3n }{ \\sqrt{ 6in^{2} + 2n^{2} - 3n + 1 } \\sqrt{ 6jn^{2} + 2n^{2} - 3n + 1} }, j < i\n",
    " \\end{bmatrix} $"
   ]
  },
  {
   "cell_type": "code",
   "execution_count": 233,
   "metadata": {},
   "outputs": [],
   "source": [
    "import numpy as np\n",
    "import matplotlib.pyplot as plt\n",
    "\n",
    "def autocorr_formula(j, i, n):\n",
    "    try:\n",
    "        i = int(i)\n",
    "    except:\n",
    "        raise TypeError('The variable i passed into the function autocorr_formula() cannot be coverted into the int type')\n",
    "    try:\n",
    "        j = int(j)\n",
    "    except:\n",
    "        raise TypeError('The variable j passed into the function autocorr_formula() cannot be coverted into the int type')    \n",
    "    if j > i:\n",
    "        i, j = j, i\n",
    "    return (6.0 * j * np.power(n, 2) + 3.0 * np.power(n, 2) - 3.0 * n) / (np.sqrt(6.0 * i * np.power(n, 2) + 2.0 * np.power(n, 2) - 3 * n + 1) * np.sqrt(6.0 * j * np.power(n, 2) + 2.0 * np.power(n, 2) - 3 * n + 1))\n",
    "\n",
    "def autocov_formula(j, i, n):\n",
    "    try:\n",
    "        i = int(i)\n",
    "    except:\n",
    "        raise TypeError('The variable i passed into the function autocov_formula() cannot be coverted into the int type')\n",
    "    try:\n",
    "        j = int(j)\n",
    "    except:\n",
    "        raise TypeError('The variable j passed into the function autocov_formula() cannot be coverted into the int type')    \n",
    "    if j > i:\n",
    "        j = i\n",
    "    return n * j + (n - 1.0)/2.0\n",
    "\n",
    "def var_formula(j, n):\n",
    "    try:\n",
    "        j = int(j)\n",
    "    except:\n",
    "        raise TypeError('The variable j passed into the function var_formula() cannot be coverted into the int type')    \n",
    "    return n * (j + 1.0/3.0) + 1.0/(6.0 * n) - 0.5\n",
    "\n",
    "def autocorr_simul(j, i, data, n):\n",
    "    ro = autocorr_formula(j=j, i=i, n=n)\n",
    "    return np.corrcoef(x=data[:,i], y=data[:,j])[0,1] / (1.0 - (1.0 - np.power(ro, 2))/(2.0 * data.shape[0]) + 1.0/np.power(data.shape[0],2) )\n",
    "\n",
    "def autocov_simul(j, i, data):\n",
    "    return np.cov(m=data[:,i], y=data[:,j], bias=False)[0,1]\n",
    "\n",
    "def var_simul(j, data):\n",
    "    return np.var(a=data[:,j], ddof=1)\n"
   ]
  },
  {
   "cell_type": "code",
   "execution_count": 262,
   "metadata": {},
   "outputs": [
    {
     "name": "stdout",
     "output_type": "stream",
     "text": [
      "The simulation with 600 time points in total\n",
      "averaged over 6 time points for the units 5 and 29.\n",
      "The time points and units are indexed from zero.\n",
      "\t\t\t\tby formula\tMonte Carlo\n",
      "Autocorrelation coefficient:\t 0.4368816\t 0.4345568\n",
      "Autocovariance:\t\t\t32.5000000\t32.4763838\n",
      "Variance of the unit   5:\t31.5277778\t31.7420139\n"
     ]
    }
   ],
   "source": [
    "duration = 600\n",
    "n = 6\n",
    "sample = 100000\n",
    "i = 29\n",
    "j = 5\n",
    "if i > duration // n:\n",
    "    i = duration // n\n",
    "if j > duration // n:\n",
    "    j = duration // n\n",
    "    \n",
    "wiener = np.random.normal(size=((sample, (duration // n) * n - 1)))\n",
    "wiener = np.hstack((np.zeros((sample,1)),wiener))\n",
    "wiener = wiener.cumsum(axis=1).reshape((sample, (duration // n), n)).mean(axis=2)\n",
    "\n",
    "print('The simulation with %d time points in total\\naveraged over %d time points for the units %d and %d.' % (duration, n, j, i))\n",
    "print('The time points and units are indexed from zero.')\n",
    "print('\\t\\t\\t\\tby formula\\tMonte Carlo')\n",
    "print('Autocorrelation coefficient:\\t%10.7f\\t%10.7f' % (autocorr_formula(i=i, j=j, n=n), autocorr_simul(i=i, j=j, data=wiener, n=n)))\n",
    "print('Autocovariance:\\t\\t\\t%.7f\\t%.7f' % (autocov_formula(i=i, j=j, n=n), autocov_simul(i=i, j=j, data=wiener)))\n",
    "print('Variance of the unit %3d:\\t%.7f\\t%.7f' % (j, var_formula(j=j, n=n), var_simul(j=j, data=wiener)))"
   ]
  }
 ],
 "metadata": {
  "kernelspec": {
   "display_name": "Python 3",
   "language": "python",
   "name": "python3"
  },
  "language_info": {
   "codemirror_mode": {
    "name": "ipython",
    "version": 3
   },
   "file_extension": ".py",
   "mimetype": "text/x-python",
   "name": "python",
   "nbconvert_exporter": "python",
   "pygments_lexer": "ipython3",
   "version": "3.8.5"
  }
 },
 "nbformat": 4,
 "nbformat_minor": 4
}
